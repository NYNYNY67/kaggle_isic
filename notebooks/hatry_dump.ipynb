{
 "cells": [
  {
   "cell_type": "code",
   "execution_count": 1,
   "id": "0c8a8df4-2f16-45a5-8929-b1a600867692",
   "metadata": {},
   "outputs": [],
   "source": [
    "import pandas as pd"
   ]
  },
  {
   "cell_type": "code",
   "execution_count": 18,
   "id": "ade8a0c5-b391-4cbb-afc7-ffef98abc805",
   "metadata": {},
   "outputs": [],
   "source": [
    "exp = 77"
   ]
  },
  {
   "cell_type": "code",
   "execution_count": 19,
   "id": "7e4a8d2a-29b5-4831-be44-f9642511c775",
   "metadata": {},
   "outputs": [],
   "source": [
    "list_df_pred = []\n",
    "for i in range(5):\n",
    "    df_pred = pd.read_csv(f\"../data/sub_{exp}/sub/fold_{i}/test_results.csv\")\n",
    "    list_df_pred.append(df_pred)"
   ]
  },
  {
   "cell_type": "code",
   "execution_count": 20,
   "id": "1fc2d68c-00ec-40eb-b9c8-d8f57a9822f9",
   "metadata": {},
   "outputs": [],
   "source": [
    "df_pred = pd.concat(list_df_pred)"
   ]
  },
  {
   "cell_type": "code",
   "execution_count": 21,
   "id": "0c9d25e2-df0c-456d-a271-75fc0d306aba",
   "metadata": {},
   "outputs": [],
   "source": [
    "df_pred[[\"isic_id\", \"pred\"]].to_parquet(f\"../data/sub_{exp}/preds.parquet\")"
   ]
  },
  {
   "cell_type": "code",
   "execution_count": null,
   "id": "18e94b99-38df-46b2-98e3-8de4a3510d31",
   "metadata": {},
   "outputs": [],
   "source": []
  }
 ],
 "metadata": {
  "kernelspec": {
   "display_name": "kaggle_icis",
   "language": "python",
   "name": "kaggle_icis"
  },
  "language_info": {
   "codemirror_mode": {
    "name": "ipython",
    "version": 3
   },
   "file_extension": ".py",
   "mimetype": "text/x-python",
   "name": "python",
   "nbconvert_exporter": "python",
   "pygments_lexer": "ipython3",
   "version": "3.9.6"
  }
 },
 "nbformat": 4,
 "nbformat_minor": 5
}
