{
 "cells": [
  {
   "cell_type": "code",
   "execution_count": 5,
   "id": "e673fa1c-bc6c-466a-844e-445ed2eaf626",
   "metadata": {},
   "outputs": [],
   "source": [
    "import pandas as pd"
   ]
  },
  {
   "cell_type": "code",
   "execution_count": 6,
   "id": "c49a531f-019a-4d1f-85e9-c7aa9a38d24b",
   "metadata": {},
   "outputs": [],
   "source": [
    "df_with_att = pd.read_csv(\"../data/kanna/ensemble_oof_df_with_att.csv\")\n",
    "df_without_att = pd.read_csv(\"../data/kanna/ensemble_oof_df_without_att.csv\")"
   ]
  },
  {
   "cell_type": "code",
   "execution_count": 7,
   "id": "7f1e15e2-c093-441b-af26-239957febeaa",
   "metadata": {},
   "outputs": [],
   "source": [
    "df_with_att[[\"isic_id\", \"pred\"]].to_parquet(\"../data/kanna/with_att.parquet\")\n",
    "df_without_att[[\"isic_id\", \"pred\"]].to_parquet(\"../data/kanna/without_att.parquet\")"
   ]
  },
  {
   "cell_type": "code",
   "execution_count": null,
   "id": "fa95d721-d2bb-4b81-aa73-09c898af400e",
   "metadata": {},
   "outputs": [],
   "source": []
  }
 ],
 "metadata": {
  "kernelspec": {
   "display_name": "kaggle_icis",
   "language": "python",
   "name": "kaggle_icis"
  },
  "language_info": {
   "codemirror_mode": {
    "name": "ipython",
    "version": 3
   },
   "file_extension": ".py",
   "mimetype": "text/x-python",
   "name": "python",
   "nbconvert_exporter": "python",
   "pygments_lexer": "ipython3",
   "version": "3.9.6"
  }
 },
 "nbformat": 4,
 "nbformat_minor": 5
}
